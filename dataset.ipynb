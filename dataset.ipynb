{
  "cells": [
    {
      "cell_type": "markdown",
      "metadata": {
        "id": "view-in-github",
        "colab_type": "text"
      },
      "source": [
        "<a href=\"https://colab.research.google.com/github/mcucii/Text-to-Image-Generation---StackGAN/blob/main/dataset.ipynb\" target=\"_parent\"><img src=\"https://colab.research.google.com/assets/colab-badge.svg\" alt=\"Open In Colab\"/></a>"
      ]
    },
    {
      "cell_type": "code",
      "execution_count": null,
      "metadata": {
        "colab": {
          "base_uri": "https://localhost:8080/"
        },
        "id": "9OJWbm_K2FKb",
        "outputId": "1a881e38-7fdc-4f96-dd99-bc8b1d096df2"
      },
      "outputs": [
        {
          "output_type": "stream",
          "name": "stdout",
          "text": [
            "Drive already mounted at /content/drive; to attempt to forcibly remount, call drive.mount(\"/content/drive\", force_remount=True).\n"
          ]
        }
      ],
      "source": [
        "from google.colab import drive\n",
        "drive.mount('/content/drive')"
      ]
    },
    {
      "cell_type": "code",
      "execution_count": null,
      "metadata": {
        "id": "0wqmOXKK1-bx"
      },
      "outputs": [],
      "source": [
        "import torch.utils.data as data\n",
        "import os.path\n",
        "import PIL\n",
        "import pickle\n",
        "import numpy as np\n",
        "import random"
      ]
    },
    {
      "cell_type": "code",
      "execution_count": null,
      "metadata": {
        "id": "LVM_rvUcYg7i"
      },
      "outputs": [],
      "source": [
        "import os\n",
        "os.chdir('/content/drive/My Drive/RIProject')"
      ]
    },
    {
      "cell_type": "code",
      "execution_count": null,
      "metadata": {
        "id": "FHSZ_QTyBv5H"
      },
      "outputs": [],
      "source": [
        "import config as cfg"
      ]
    },
    {
      "cell_type": "code",
      "execution_count": null,
      "metadata": {
        "id": "z0zDAcjC73zr"
      },
      "outputs": [],
      "source": [
        "class TextImageDataset(data.Dataset):\n",
        "  def __init__(self, data_dir, split='train', embedding_filename = cfg.EMBEDDING_FILENAME, img_size = 64):\n",
        "    self.img_size = img_size\n",
        "    self.data = []\n",
        "    self.data_dir = data_dir\n",
        "    split_dir = os.path.join(data_dir, split)\n",
        "\n",
        "    self.filenames = self.load_filenames(split_dir)\n",
        "    self.embeddings = self.load_embedding(split_dir, embedding_filename)\n",
        "    self.class_id = self.load_class_id(split_dir, len(self.filenames))\n",
        "\n",
        "  def load_filenames(split_dir):\n",
        "    pass\n",
        "\n",
        "  def load_embedding(split_dir, embedding_filename):\n",
        "    pass\n",
        "\n",
        "  def load_class_id(split_dir):\n",
        "    pass\n"
      ]
    },
    {
      "cell_type": "code",
      "execution_count": null,
      "metadata": {
        "id": "Tc8xr-oEDHJJ"
      },
      "outputs": [],
      "source": []
    },
    {
      "cell_type": "code",
      "execution_count": null,
      "metadata": {
        "id": "1hqHXJOz7zfy"
      },
      "outputs": [],
      "source": []
    },
    {
      "cell_type": "code",
      "execution_count": null,
      "metadata": {
        "id": "aNUPLbql9K8J"
      },
      "outputs": [],
      "source": []
    },
    {
      "cell_type": "code",
      "execution_count": null,
      "metadata": {
        "id": "mRTIMfFH9WOO"
      },
      "outputs": [],
      "source": [
        "\n"
      ]
    },
    {
      "cell_type": "code",
      "execution_count": null,
      "metadata": {
        "id": "RTOLHJga-ZAM"
      },
      "outputs": [],
      "source": []
    }
  ],
  "metadata": {
    "accelerator": "GPU",
    "colab": {
      "gpuType": "T4",
      "provenance": [],
      "authorship_tag": "ABX9TyP56MmcVB6XzkCXO6iB82qO",
      "include_colab_link": true
    },
    "kernelspec": {
      "display_name": "Python 3",
      "name": "python3"
    },
    "language_info": {
      "name": "python"
    }
  },
  "nbformat": 4,
  "nbformat_minor": 0
}