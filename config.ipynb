{
  "nbformat": 4,
  "nbformat_minor": 0,
  "metadata": {
    "colab": {
      "provenance": [],
      "authorship_tag": "ABX9TyMDcrUEye2gZZ/RlwAjpu4W",
      "include_colab_link": true
    },
    "kernelspec": {
      "name": "python3",
      "display_name": "Python 3"
    },
    "language_info": {
      "name": "python"
    }
  },
  "cells": [
    {
      "cell_type": "markdown",
      "metadata": {
        "id": "view-in-github",
        "colab_type": "text"
      },
      "source": [
        "<a href=\"https://colab.research.google.com/github/mcucii/MindArtify/blob/main/config.ipynb\" target=\"_parent\"><img src=\"https://colab.research.google.com/assets/colab-badge.svg\" alt=\"Open In Colab\"/></a>"
      ]
    },
    {
      "cell_type": "code",
      "execution_count": 1,
      "metadata": {
        "id": "YaZSEUgstRlC"
      },
      "outputs": [],
      "source": [
        "DATASET_NAME = \"birds\"\n",
        "EMBEDDING_TYPE = 'cnn-rnn'\n",
        "CONFIG_NAME = ''\n",
        "GPU_ID = '0'\n",
        "CUDA = True\n",
        "WORKERS = 6"
      ]
    },
    {
      "cell_type": "code",
      "source": [],
      "metadata": {
        "id": "rTARCGUKtg7j"
      },
      "execution_count": null,
      "outputs": []
    }
  ]
}