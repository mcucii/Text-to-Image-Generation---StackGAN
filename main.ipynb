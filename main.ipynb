{
  "nbformat": 4,
  "nbformat_minor": 0,
  "metadata": {
    "colab": {
      "provenance": [],
      "gpuType": "T4",
      "authorship_tag": "ABX9TyPzGou/t9S+qKWSKn3zdsJ7",
      "include_colab_link": true
    },
    "kernelspec": {
      "name": "python3",
      "display_name": "Python 3"
    },
    "language_info": {
      "name": "python"
    },
    "accelerator": "GPU"
  },
  "cells": [
    {
      "cell_type": "markdown",
      "metadata": {
        "id": "view-in-github",
        "colab_type": "text"
      },
      "source": [
        "<a href=\"https://colab.research.google.com/github/mcucii/TextToImageGeneration_StackGAN/blob/main/main.ipynb\" target=\"_parent\"><img src=\"https://colab.research.google.com/assets/colab-badge.svg\" alt=\"Open In Colab\"/></a>"
      ]
    },
    {
      "cell_type": "code",
      "source": [
        "from google.colab import drive\n",
        "drive.mount('/content/drive')"
      ],
      "metadata": {
        "colab": {
          "base_uri": "https://localhost:8080/"
        },
        "id": "QXmRuWBRdjuJ",
        "outputId": "5c4aafcf-79e0-4b2c-8493-0f02f68fa420"
      },
      "execution_count": 1,
      "outputs": [
        {
          "output_type": "stream",
          "name": "stdout",
          "text": [
            "Mounted at /content/drive\n"
          ]
        }
      ]
    },
    {
      "cell_type": "code",
      "source": [
        "import os\n",
        "os.chdir('/content/drive/MyDrive/RIProject')"
      ],
      "metadata": {
        "id": "zaIR_4PudtmL"
      },
      "execution_count": 2,
      "outputs": []
    },
    {
      "cell_type": "code",
      "source": [
        "import config as cfg\n",
        "from dataset import TextImageDataset\n",
        "from stage1 import GANTrainer_stage1"
      ],
      "metadata": {
        "id": "SXUwtfV4dwMb"
      },
      "execution_count": 3,
      "outputs": []
    },
    {
      "cell_type": "code",
      "source": [
        "import torchvision.transforms as transforms\n",
        "from torch.utils.data import DataLoader"
      ],
      "metadata": {
        "id": "HhOIhPNhUUJ2"
      },
      "execution_count": 4,
      "outputs": []
    },
    {
      "cell_type": "code",
      "execution_count": 5,
      "metadata": {
        "id": "k3Z6PjUKaTuH"
      },
      "outputs": [],
      "source": [
        "class Args:\n",
        "    train = 'y'\n",
        "    stage = 1\n",
        "\n",
        "if Args.stage == 1:\n",
        "    cfg.IMG_SIZE = 64\n",
        "else:\n",
        "    cfg.IMG_SIZE = 256\n",
        "cfg.STAGE = Args.stage\n",
        "if Args.train == \"y\":\n",
        "    cfg.TRAIN = True\n",
        "else:\n",
        "    cfg.NET_G = \"../data/birds/models/netG_epoch_360.pth\"\n",
        "    cfg.TRAIN = False\n",
        "\n",
        "output_dir = '../output/birds'"
      ]
    },
    {
      "cell_type": "code",
      "source": [
        "def train():\n",
        "  image_transform = transforms.Compose([\n",
        "      transforms.RandomResizedCrop(cfg.IMG_SIZE),  # Randomly crop and resize the image\n",
        "      transforms.RandomHorizontalFlip(),         # Randomly flip the image horizontally\n",
        "      transforms.ColorJitter(),                  # Randomly adjust brightness, contrast, saturation, and hue\n",
        "      transforms.ToTensor(),                     # Convert the image to a PyTorch tensor\n",
        "      transforms.Normalize((0.5, 0.5, 0.5), (0.5, 0.5, 0.5))  # Normalize the image\n",
        "  ])\n",
        "  dataset = TextImageDataset(cfg.DATA_DIR, 'train', input_transform=image_transform)\n",
        "\n",
        "  dataloader = DataLoader(dataset, batch_size=cfg.TRAIN_BATCH_SIZE, drop_last=True, shuffle=True)\n",
        "\n",
        "  trainer = GANTrainer_stage1(output_dir)\n",
        "  trainer.train(dataloader)"
      ],
      "metadata": {
        "id": "ddsVitDTRDV2"
      },
      "execution_count": 6,
      "outputs": []
    },
    {
      "cell_type": "code",
      "source": [
        "def test():\n",
        "  # TODO\n",
        "  pass"
      ],
      "metadata": {
        "id": "jqMVmWdsRLSD"
      },
      "execution_count": 7,
      "outputs": []
    },
    {
      "cell_type": "code",
      "source": [
        "def main():\n",
        "\n",
        "  if Args.train == 0:\n",
        "    cfg.TRAIN = False  # True by default (train)\n",
        "    # todo: test\n",
        "    #cfg.NET_G = \"?\"  # NET_G -> pre-trained model:\n",
        "  else:\n",
        "    cfg.TRAIN = True\n",
        "\n",
        "  if Args.stage == 1:\n",
        "    cfg.IMG_SIZE = 64\n",
        "    cfg.STAGE = 1\n",
        "  else :\n",
        "    cfg.IMG_SIZE = 256\n",
        "    cfg.STAGE = 2\n",
        "\n",
        "  output_dir = '../output/birds'\n",
        "\n",
        "\n",
        "\n",
        "  if cfg.TRAIN:\n",
        "    train()\n",
        "  # else:\n",
        "  #   test()\n"
      ],
      "metadata": {
        "id": "-e2VLo2HcCto"
      },
      "execution_count": 8,
      "outputs": []
    },
    {
      "cell_type": "code",
      "source": [
        "main()"
      ],
      "metadata": {
        "id": "OAogAIgN8CXF"
      },
      "execution_count": 9,
      "outputs": []
    },
    {
      "cell_type": "code",
      "source": [],
      "metadata": {
        "id": "_nNU0WRqA59T"
      },
      "execution_count": null,
      "outputs": []
    }
  ]
}