{
  "nbformat": 4,
  "nbformat_minor": 0,
  "metadata": {
    "colab": {
      "provenance": [],
      "authorship_tag": "ABX9TyPuKQ4w7R93EeIza5JFNNEm",
      "include_colab_link": true
    },
    "kernelspec": {
      "name": "python3",
      "display_name": "Python 3"
    },
    "language_info": {
      "name": "python"
    }
  },
  "cells": [
    {
      "cell_type": "markdown",
      "metadata": {
        "id": "view-in-github",
        "colab_type": "text"
      },
      "source": [
        "<a href=\"https://colab.research.google.com/github/mcucii/Text-to-Image-Generation---StackGAN/blob/main/main.ipynb\" target=\"_parent\"><img src=\"https://colab.research.google.com/assets/colab-badge.svg\" alt=\"Open In Colab\"/></a>"
      ]
    },
    {
      "cell_type": "code",
      "source": [
        "from google.colab import drive\n",
        "drive.mount('/content/drive')"
      ],
      "metadata": {
        "colab": {
          "base_uri": "https://localhost:8080/"
        },
        "id": "QXmRuWBRdjuJ",
        "outputId": "8aa002ce-119b-41b1-d6e0-c2da429a5e0c"
      },
      "execution_count": 1,
      "outputs": [
        {
          "output_type": "stream",
          "name": "stdout",
          "text": [
            "Mounted at /content/drive\n"
          ]
        }
      ]
    },
    {
      "cell_type": "code",
      "source": [
        "import os\n",
        "os.chdir('/content/drive/MyDrive/RIProject')"
      ],
      "metadata": {
        "id": "zaIR_4PudtmL"
      },
      "execution_count": 2,
      "outputs": []
    },
    {
      "cell_type": "code",
      "source": [
        "import config as cfg"
      ],
      "metadata": {
        "id": "SXUwtfV4dwMb"
      },
      "execution_count": 3,
      "outputs": []
    },
    {
      "cell_type": "code",
      "source": [
        "from dataset import TextImageDataset"
      ],
      "metadata": {
        "id": "6WWj-UbBYzcz"
      },
      "execution_count": 4,
      "outputs": []
    },
    {
      "cell_type": "code",
      "source": [
        "import torchvision.transforms as transforms\n",
        "from torch.utils.data import DataLoader"
      ],
      "metadata": {
        "id": "HhOIhPNhUUJ2"
      },
      "execution_count": 5,
      "outputs": []
    },
    {
      "cell_type": "code",
      "source": [
        "#birds_path = \"/content/drive/MyDrive/RIProject/data/birds/train\"\n",
        "print(cfg.DATA_DIR)"
      ],
      "metadata": {
        "id": "IyQTEN8dpU6t",
        "colab": {
          "base_uri": "https://localhost:8080/"
        },
        "outputId": "b0a3bc72-1922-43a4-a15a-cd9bec6a2963"
      },
      "execution_count": 6,
      "outputs": [
        {
          "output_type": "stream",
          "name": "stdout",
          "text": [
            "/content/drive/MyDrive/RIProject/data/birds\n"
          ]
        }
      ]
    },
    {
      "cell_type": "code",
      "execution_count": 7,
      "metadata": {
        "id": "k3Z6PjUKaTuH"
      },
      "outputs": [],
      "source": [
        "class Args:\n",
        "    train = 'y'\n",
        "    stage = 1\n",
        "\n",
        "if Args.stage == 1:\n",
        "    cfg.IMG_SIZE = 64\n",
        "else:\n",
        "    cfg.IMG_SIZE = 256\n",
        "cfg.STAGE = Args.stage\n",
        "if Args.train == \"y\":\n",
        "    cfg.TRAIN = True\n",
        "else:\n",
        "    cfg.NET_G = \"../data/birds/models/netG_epoch_360.pth\"\n",
        "    cfg.TRAIN = False\n",
        "\n",
        "output_dir = '../output/birds'"
      ]
    },
    {
      "cell_type": "code",
      "source": [
        "print(cfg.DATA_DIR)"
      ],
      "metadata": {
        "colab": {
          "base_uri": "https://localhost:8080/"
        },
        "id": "BH-0iFHlbLa9",
        "outputId": "d3ef2745-fbcd-4a7d-ed4c-6c8138a50395"
      },
      "execution_count": 8,
      "outputs": [
        {
          "output_type": "stream",
          "name": "stdout",
          "text": [
            "/content/drive/MyDrive/RIProject/data/birds\n"
          ]
        }
      ]
    },
    {
      "cell_type": "code",
      "source": [
        "def train():\n",
        "  image_transform = transforms.Compose([\n",
        "      transforms.RandomResizedCrop(cfg.IMG_SIZE),  # Randomly crop and resize the image\n",
        "      transforms.RandomHorizontalFlip(),         # Randomly flip the image horizontally\n",
        "      transforms.ColorJitter(),                  # Randomly adjust brightness, contrast, saturation, and hue\n",
        "      transforms.ToTensor(),                     # Convert the image to a PyTorch tensor\n",
        "      transforms.Normalize((0.5, 0.5, 0.5), (0.5, 0.5, 0.5))  # Normalize the image\n",
        "  ])\n",
        "  dataset = TextImageDataset(cfg.DATA_DIR, 'train', input_transform=image_transform)\n",
        "\n",
        "\n",
        "  data_loader = DataLoader(dataset)\n",
        "\n",
        "  print(f\"Size of dataset: {len(dataset)} samples\")\n",
        "\n",
        "\n",
        "  # TODO\n",
        "  # - create GAN trainer instance\n",
        "  # - train data using trainer instance"
      ],
      "metadata": {
        "id": "ddsVitDTRDV2"
      },
      "execution_count": 9,
      "outputs": []
    },
    {
      "cell_type": "code",
      "source": [
        "print(cfg.DATA_DIR + \"train\")"
      ],
      "metadata": {
        "colab": {
          "base_uri": "https://localhost:8080/"
        },
        "id": "4MEHzASLbEJI",
        "outputId": "aa6fe616-c4d3-4f91-9eac-7ee4eac482e1"
      },
      "execution_count": 10,
      "outputs": [
        {
          "output_type": "stream",
          "name": "stdout",
          "text": [
            "/content/drive/MyDrive/RIProject/data/birdstrain\n"
          ]
        }
      ]
    },
    {
      "cell_type": "code",
      "source": [
        "def test():\n",
        "  # TODO\n",
        "  pass"
      ],
      "metadata": {
        "id": "jqMVmWdsRLSD"
      },
      "execution_count": 11,
      "outputs": []
    },
    {
      "cell_type": "code",
      "source": [
        "def main():\n",
        "\n",
        "  if Args.train == 0:\n",
        "    cfg.TRAIN = False  # True by default (train)\n",
        "    # todo: test\n",
        "    #cfg.NET_G = \"?\"  # NET_G -> pre-trained model:\n",
        "  else:\n",
        "    cfg.TRAIN = True\n",
        "\n",
        "  if Args.stage == 1:\n",
        "    cfg.IMG_SIZE = 64\n",
        "    cfg.STAGE = 1\n",
        "  else :\n",
        "    cfg.IMG_SIZE = 256\n",
        "    cfg.STAGE = 2\n",
        "\n",
        "  output_dir = '../output/birds'\n",
        "\n",
        "\n",
        "\n",
        "  if cfg.TRAIN:\n",
        "    train()\n",
        "  else:\n",
        "    test()\n"
      ],
      "metadata": {
        "id": "-e2VLo2HcCto"
      },
      "execution_count": 12,
      "outputs": []
    },
    {
      "cell_type": "code",
      "source": [],
      "metadata": {
        "id": "P_rBuK5lYlhf"
      },
      "execution_count": 12,
      "outputs": []
    },
    {
      "cell_type": "code",
      "source": [
        "main()"
      ],
      "metadata": {
        "id": "9GR6U5badVcA",
        "colab": {
          "base_uri": "https://localhost:8080/"
        },
        "outputId": "a602d1c3-2100-4a9a-85e4-921ff4d282b7"
      },
      "execution_count": 13,
      "outputs": [
        {
          "output_type": "stream",
          "name": "stdout",
          "text": [
            "Size of dataset: 8855 samples\n"
          ]
        }
      ]
    },
    {
      "cell_type": "code",
      "source": [],
      "metadata": {
        "id": "pHHD7g6QRmbF"
      },
      "execution_count": null,
      "outputs": []
    }
  ]
}