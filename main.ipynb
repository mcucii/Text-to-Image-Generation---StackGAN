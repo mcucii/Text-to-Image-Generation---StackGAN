{
  "nbformat": 4,
  "nbformat_minor": 0,
  "metadata": {
    "colab": {
      "provenance": [],
      "authorship_tag": "ABX9TyOszeTQrSFh2zfU/6m9fW5G",
      "include_colab_link": true
    },
    "kernelspec": {
      "name": "python3",
      "display_name": "Python 3"
    },
    "language_info": {
      "name": "python"
    }
  },
  "cells": [
    {
      "cell_type": "markdown",
      "metadata": {
        "id": "view-in-github",
        "colab_type": "text"
      },
      "source": [
        "<a href=\"https://colab.research.google.com/github/mcucii/Text-to-Image-Generation---StackGAN/blob/main/main.ipynb\" target=\"_parent\"><img src=\"https://colab.research.google.com/assets/colab-badge.svg\" alt=\"Open In Colab\"/></a>"
      ]
    },
    {
      "cell_type": "code",
      "source": [
        "import argparse"
      ],
      "metadata": {
        "id": "c61KHR8Jb1Rm"
      },
      "execution_count": null,
      "outputs": []
    },
    {
      "cell_type": "code",
      "source": [
        "from google.colab import drive\n",
        "drive.mount('/content/drive')"
      ],
      "metadata": {
        "colab": {
          "base_uri": "https://localhost:8080/"
        },
        "id": "QXmRuWBRdjuJ",
        "outputId": "3a6ed4ee-e104-4624-c1e3-792a73822ba7"
      },
      "execution_count": null,
      "outputs": [
        {
          "output_type": "stream",
          "name": "stdout",
          "text": [
            "Drive already mounted at /content/drive; to attempt to forcibly remount, call drive.mount(\"/content/drive\", force_remount=True).\n"
          ]
        }
      ]
    },
    {
      "cell_type": "code",
      "source": [
        "import os\n",
        "os.chdir('/content/drive/My Drive/RIProject')"
      ],
      "metadata": {
        "id": "zaIR_4PudtmL"
      },
      "execution_count": null,
      "outputs": []
    },
    {
      "cell_type": "code",
      "source": [
        "import config as cfg"
      ],
      "metadata": {
        "id": "SXUwtfV4dwMb"
      },
      "execution_count": null,
      "outputs": []
    },
    {
      "cell_type": "code",
      "execution_count": null,
      "metadata": {
        "id": "k3Z6PjUKaTuH"
      },
      "outputs": [],
      "source": [
        "def parse_arguments():\n",
        "  parser = argparse.ArgumentParser(description=\"Parse StackGAN arguments\")\n",
        "  parser.add_argument('--data_dir', type=str, dest='data_dir', default='')\n",
        "  parser.add_argument('--train', type=bool, dest='train', default=1)  # by default - train\n",
        "  parser.add_argument('--stage', type=int, dest='stage', default=1)\n",
        "\n",
        "  args = parser.parse_args()\n",
        "  return args"
      ]
    },
    {
      "cell_type": "code",
      "source": [
        "\n"
      ],
      "metadata": {
        "id": "-e2VLo2HcCto"
      },
      "execution_count": null,
      "outputs": []
    },
    {
      "cell_type": "code",
      "source": [],
      "metadata": {
        "id": "9GR6U5badVcA"
      },
      "execution_count": null,
      "outputs": []
    }
  ]
}